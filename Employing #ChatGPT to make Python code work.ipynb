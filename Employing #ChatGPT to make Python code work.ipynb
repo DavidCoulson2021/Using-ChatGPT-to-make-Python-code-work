{
 "cells": [
  {
   "cell_type": "code",
   "execution_count": 68,
   "id": "cb424a1b",
   "metadata": {},
   "outputs": [],
   "source": [
    "#Credit for the starter code goes to Samuele Mazzanti and his NOV 2022 article\n",
    "#https://towardsdatascience.com/using-causal-ml-instead-of-a-b-testing-eeb1067d7fc0\n",
    "\n",
    "#ChatGPT logo courtesy of https://commons.wikimedia.org/wiki/File:ChatGPT_logo.svg\n",
    "\n",
    "#Python logo courtesty of https://www.python.org/community/logos/"
   ]
  },
  {
   "cell_type": "code",
   "execution_count": 17,
   "id": "6ec16d2b",
   "metadata": {},
   "outputs": [],
   "source": [
    "#!pip install lightgbm"
   ]
  },
  {
   "cell_type": "code",
   "execution_count": 74,
   "id": "9b5b8542",
   "metadata": {},
   "outputs": [],
   "source": [
    "import pandas as pd\n",
    "import numpy as np\n",
    "from sklearn.model_selection import KFold\n",
    "from lightgbm import LGBMRegressor\n",
    "\n",
    "# Generate a sample dataset with input features and target variable\n",
    "data = pd.DataFrame()\n",
    "data['input_feature_1'] = np.random.normal(0, 1, 1000)\n",
    "data['input_feature_2'] = np.random.normal(0, 1, 1000)\n",
    "data['target_variable'] = np.random.normal(10, 2, 1000)\n",
    "data['campaign_A'] = np.random.choice([0, 1], size=1000, p=[0.5, 0.5])\n",
    "\n",
    "# Assuming you have a pandas DataFrame called 'data' with input features\n",
    "X = data[['input_feature_1', 'input_feature_2', 'campaign_A']]  # Assign the input features to variable 'X'\n",
    "y = data['target_variable']  # Assign the target variable to variable 'y'"
   ]
  },
  {
   "cell_type": "code",
   "execution_count": 75,
   "id": "b9beea64",
   "metadata": {},
   "outputs": [],
   "source": [
    "# Initialize the number of folds and a dictionary to store the folds (Samuele's code)\n",
    "n_folds = 5\n",
    "folds = {fold: dict() for fold in range(n_folds)}\n",
    "\n",
    "# For each fold\n",
    "for fold, (ix_train, ix_test) in enumerate(KFold(n_splits=n_folds).split(X=X)):\n",
    "\n",
    "    # ... store test index and trained model\n",
    "    folds[fold][\"ix_test\"] = ix_test\n",
    "    folds[fold][\"model\"] = LGBMRegressor().fit(\n",
    "        X=X.loc[ix_train, :],\n",
    "        y=y.loc[ix_train]\n",
    "    )\n"
   ]
  },
  {
   "cell_type": "code",
   "execution_count": 76,
   "id": "43779890",
   "metadata": {},
   "outputs": [
    {
     "name": "stdout",
     "output_type": "stream",
     "text": [
      "   input_feature_1  input_feature_2  target_variable  campaign_A\n",
      "0        -0.603144         0.501586        11.161428           0\n",
      "1        -0.666917         2.089140        12.649203           1\n",
      "2        -0.843950        -0.709916         8.497772           1\n",
      "3         0.899722         1.696887        13.638148           0\n",
      "4         0.234440        -0.656006        10.430013           0\n"
     ]
    }
   ],
   "source": [
    "# Quick check of the data\n",
    "print(data.head())"
   ]
  },
  {
   "cell_type": "code",
   "execution_count": 77,
   "id": "ad95cdbb",
   "metadata": {},
   "outputs": [
    {
     "name": "stderr",
     "output_type": "stream",
     "text": [
      "<ipython-input-77-90c5147c8230>:8: DeprecationWarning: The default dtype for empty Series will be 'object' instead of 'float64' in a future version. Specify a dtype explicitly to silence this warning.\n",
      "  pred_zeros = pd.Series(index=X.index)\n",
      "<ipython-input-77-90c5147c8230>:9: DeprecationWarning: The default dtype for empty Series will be 'object' instead of 'float64' in a future version. Specify a dtype explicitly to silence this warning.\n",
      "  pred_ones = pd.Series(index=X.index)\n"
     ]
    }
   ],
   "source": [
    "# Make counterfactual datasets for campaign A (More of Samuele's code)\n",
    "X_zeros = X.copy()  # Create a copy of X\n",
    "X_zeros.loc[X_zeros[\"campaign_A\"] == 1, \"campaign_A\"] = 0  # Set campaign_A to 0 for universe A\n",
    "\n",
    "X_ones = X.copy()  # Create a copy of X\n",
    "X_ones.loc[X_ones[\"campaign_A\"] == 0, \"campaign_A\"] = 1  # Set campaign_A to 1 for universe B\n",
    "\n",
    "pred_zeros = pd.Series(index=X.index)\n",
    "pred_ones = pd.Series(index=X.index)\n",
    "\n",
    "# For each fold, use model to make predictions on test individuals and store them\n",
    "for fold in folds.keys():\n",
    "    ix_test = folds[fold][\"ix_test\"]\n",
    "    model = folds[fold][\"model\"]\n",
    "\n",
    "    pred_zeros.loc[ix_test] = model.predict(X_zeros.loc[ix_test, :])\n",
    "    pred_ones.loc[ix_test] = model.predict(X_ones.loc[ix_test, :])\n"
   ]
  },
  {
   "cell_type": "code",
   "execution_count": 78,
   "id": "02597fdf",
   "metadata": {},
   "outputs": [
    {
     "name": "stdout",
     "output_type": "stream",
     "text": [
      "Sample Fold: 0\n",
      "Test Indices: [0 1 2 3 4 5 6 7 8 9]\n",
      "Predictions (Universe A): 0     9.583919\n",
      "1    11.359732\n",
      "2    11.210346\n",
      "3    10.399683\n",
      "4    11.546509\n",
      "5     8.962543\n",
      "6     9.673498\n",
      "7    11.767661\n",
      "8    10.623508\n",
      "9     8.623163\n",
      "dtype: float64\n",
      "Predictions (Universe B): 0     9.894047\n",
      "1    11.301555\n",
      "2    11.069326\n",
      "3     9.844753\n",
      "4    11.416505\n",
      "5     9.859523\n",
      "6     9.391807\n",
      "7    11.463028\n",
      "8    10.371302\n",
      "9     9.190145\n",
      "dtype: float64\n"
     ]
    }
   ],
   "source": [
    "# Print a sample of the output (My )\n",
    "sample_fold = 0  # Select a fold to display the output\n",
    "sample_ix_test = folds[sample_fold][\"ix_test\"]\n",
    "sample_pred_zeros = pred_zeros.loc[sample_ix_test]\n",
    "sample_pred_ones = pred_ones.loc[sample_ix_test]\n",
    "\n",
    "print(\"Sample Fold:\", sample_fold)\n",
    "print(\"Test Indices:\", sample_ix_test[:10])  # Display the first 10 test indices\n",
    "print(\"Predictions (Universe A):\", sample_pred_zeros[:10])  # Display the first 10 predictions for universe A\n",
    "print(\"Predictions (Universe B):\", sample_pred_ones[:10])  # Display the first 10 predictions for universe B"
   ]
  },
  {
   "cell_type": "code",
   "execution_count": 79,
   "id": "55a83f1a",
   "metadata": {},
   "outputs": [
    {
     "name": "stdout",
     "output_type": "stream",
     "text": [
      "0.30441971161428855\n"
     ]
    }
   ],
   "source": [
    "ate = (pred_ones - pred_zeros).mean()\n",
    "print(ate)"
   ]
  },
  {
   "cell_type": "code",
   "execution_count": null,
   "id": "903efbf5",
   "metadata": {},
   "outputs": [],
   "source": []
  }
 ],
 "metadata": {
  "kernelspec": {
   "display_name": "Python 3",
   "language": "python",
   "name": "python3"
  },
  "language_info": {
   "codemirror_mode": {
    "name": "ipython",
    "version": 3
   },
   "file_extension": ".py",
   "mimetype": "text/x-python",
   "name": "python",
   "nbconvert_exporter": "python",
   "pygments_lexer": "ipython3",
   "version": "3.8.8"
  }
 },
 "nbformat": 4,
 "nbformat_minor": 5
}
